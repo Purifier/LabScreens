{
 "cells": [
  {
   "cell_type": "markdown",
   "metadata": {},
   "source": [
    "Вы работаете секретарем и вам постоянно приходят различные документы. Вы должны быть очень внимательны, чтобы не потерять ни один документ. Каталог документов хранится в следующем виде:"
   ]
  },
  {
   "cell_type": "code",
   "execution_count": 1,
   "metadata": {},
   "outputs": [],
   "source": [
    "documents = [\n",
    "    {'type': 'passport', 'number': '2207 876234', 'name': 'Василий Гупкин'},\n",
    "    {'type': 'invoice', 'number': '11-2', 'name': 'Геннадий Покемонов'},\n",
    "    {'type': 'insurance', 'number': '10006', 'name': 'Аристарх Павлов'}\n",
    "]"
   ]
  },
  {
   "cell_type": "code",
   "execution_count": 2,
   "metadata": {},
   "outputs": [],
   "source": [
    "def print_documents(documents):\n",
    "    for doc in documents:\n",
    "        print(doc)"
   ]
  },
  {
   "cell_type": "markdown",
   "metadata": {},
   "source": [
    "Перечень полок, на которых находятся документы хранится в следующем виде:"
   ]
  },
  {
   "cell_type": "code",
   "execution_count": 90,
   "metadata": {},
   "outputs": [],
   "source": [
    "directories = {\n",
    "    '1': ['2207 876234', '11-2'],\n",
    "    '2': ['10006'],\n",
    "    '3': []\n",
    "}"
   ]
  },
  {
   "cell_type": "code",
   "execution_count": 6,
   "metadata": {},
   "outputs": [],
   "source": [
    "def print_directories(directories):\n",
    "    for key,value in directories.items():\n",
    "        print(key,value)"
   ]
  },
  {
   "cell_type": "markdown",
   "metadata": {},
   "source": [
    "Необходимо реализовать пользовательские команды (внимание! это не название функций, которые должны быть выразительными, а команды, которые вводит пользователь, чтобы получить необходимый результат):\n",
    "\n",
    "* p – people – команда, которая спросит номер документа и выведет имя человека, которому он принадлежит;\n",
    "* s – shelf – команда, которая спросит номер документа и выведет номер полки, на которой он находится\n",
    "Правильно обработайте ситуации, когда пользователь будет вводить несуществующий документ.\n",
    "* l – list – команда, которая выведет список всех документов в формате\n",
    "**passport \"2207 876234\" \"Василий Гупкин\"**\n",
    "* as – add shelf – команда, которая спросит номер новой полки и добавит ее в перечень. Предусмотрите случай, когда пользователь добавляет полку, которая уже существует.\n",
    "* d – delete – команда, которая спросит номер документа и удалит его из каталога и из перечня полок. Предусмотрите сценарий, когда пользователь вводит несуществующий документ;\n",
    "* m – move – команда, которая спросит номер документа и целевую полку и переместит его с текущей полки на целевую. Корректно обработайте кейсы, когда пользователь пытается переместить несуществующий документ или переместить документ на несуществующую полку;\n",
    "*  add – команда, которая добавит новый документ в каталог и в перечень полок, спросив его номер, тип, имя владельца и номер полки, на котором он будет храниться. Корректно обработайте ситуацию, когда пользователь будет пытаться добавить документ на несуществующую полку."
   ]
  },
  {
   "cell_type": "code",
   "execution_count": 116,
   "metadata": {},
   "outputs": [],
   "source": [
    "def people_doc(documents):\n",
    "    doc_num=input('Введите номер документа')\n",
    "    for doc in documents:\n",
    "        if doc['number']==doc_num:\n",
    "            print(doc['name'])\n",
    "def shelf_doc(documents):\n",
    "    b=0\n",
    "    doc_num=input('Введите номер документа')\n",
    "    for doc in documents:\n",
    "        if doc_num == doc['number']:\n",
    "            b=1\n",
    "            for shelf in directories.keys():\n",
    "                if doc_num in directories[shelf]:\n",
    "                    print(\"Номер полки - \"+shelf)\n",
    "    if b!=1:\n",
    "        print(\"Такого документа не существует\")\n",
    "def list_docs(documents):\n",
    "    for doc in documents:\n",
    "        print(doc['type']+' \"'+doc['number']+'\" '+'\"'+doc['name']+'\" ')\n",
    "def addshelf(dirs):\n",
    "    num=input(\"Введите номер новой полки\")\n",
    "    if num in dirs.keys():\n",
    "        print(\"Такая полка уже существует\")\n",
    "    else:\n",
    "        dirs[num]=[]\n",
    "def delete(documents):\n",
    "    b=False\n",
    "    num=input(\"Введите номер документа для удаления\")\n",
    "    for doc in documents:\n",
    "        if num==doc['number']:\n",
    "            b=True\n",
    "            documents.remove(doc)\n",
    "    for shelf in directories.keys():\n",
    "        if num in directories[shelf]:\n",
    "            directories[shelf].remove(num)\n",
    "    if b!=True:\n",
    "        print(\"Такого документа не существует\")\n",
    "    else:\n",
    "        print(\"Успешно удален\")\n",
    "def movedoc(documents):\n",
    "    num=input(\"Введите номер документа для перемещения\")\n",
    "    b=False\n",
    "    dest=input(\"Введите номер целевой полки\")\n",
    "    if dest not in directories.keys():\n",
    "        print(\"Такой полки не существует\")\n",
    "        return\n",
    "    for doc in documents:\n",
    "        if num==doc['number']:\n",
    "            b=True\n",
    "    for shelf in directories.keys():\n",
    "        if num in directories[shelf]:\n",
    "            directories[dest].append(num)\n",
    "            directories[shelf].remove(num)\n",
    "    if b!=True:\n",
    "        print(\"Такого документа не существует\")\n",
    "    else:\n",
    "        print(\"Успешно перемещен\")      \n",
    "def add(documents):\n",
    "    dest=input(\"Введите номер целевой полки\")\n",
    "    if dest not in directories.keys():\n",
    "        print(\"Такой полки не существует\")\n",
    "        return\n",
    "    newdoc={}\n",
    "    newdoc['type']=input(\"Введите тип документа\")\n",
    "    newdoc['number']=input(\"Введите номер документа\")\n",
    "    newdoc['name']=input(\"Введите имя владельца документа\")\n",
    "    documents.append(newdoc)\n",
    "    directories[dest].append(newdoc['number'])"
   ]
  },
  {
   "cell_type": "code",
   "execution_count": 119,
   "metadata": {},
   "outputs": [],
   "source": [
    "def main():\n",
    "    while True:\n",
    "        user_input = input('Введите команду')\n",
    "        if user_input == 'p':\n",
    "            people_doc(documents)\n",
    "        elif user_input == 's':\n",
    "            shelf_doc(documents)\n",
    "        elif user_input == 'l':\n",
    "            list_docs(documents)\n",
    "        elif user_input == 'as':\n",
    "            addshelf(directories)\n",
    "        elif user_input == 'd':\n",
    "            delete(documents)\n",
    "        elif user_input == 'm':\n",
    "            movedoc(documents)\n",
    "        elif user_input == 'add':\n",
    "            add(documents)\n",
    "        elif user_input == 'q':\n",
    "            break"
   ]
  },
  {
   "cell_type": "code",
   "execution_count": 120,
   "metadata": {},
   "outputs": [
    {
     "name": "stdout",
     "output_type": "stream",
     "text": [
      "Введите командуadd\n",
      "Введите номер целевой полки2\n",
      "Введите тип документаsnils\n",
      "Введите номер документа50\n",
      "Введите имя владельца документаErik\n",
      "Введите командуl\n",
      "passport \"2207 876234\" \"Василий Гупкин\" \n",
      "invoice \"11-2\" \"Геннадий Покемонов\" \n",
      "snils \"50\" \"Erik\" \n",
      "Введите командуq\n"
     ]
    }
   ],
   "source": [
    "main()"
   ]
  },
  {
   "cell_type": "code",
   "execution_count": 114,
   "metadata": {},
   "outputs": [
    {
     "data": {
      "text/plain": [
       "{'1': ['2207 876234'], '2': [], '3': ['11-2']}"
      ]
     },
     "execution_count": 114,
     "metadata": {},
     "output_type": "execute_result"
    }
   ],
   "source": []
  },
  {
   "cell_type": "code",
   "execution_count": null,
   "metadata": {},
   "outputs": [],
   "source": []
  }
 ],
 "metadata": {
  "kernelspec": {
   "display_name": "Python 3",
   "language": "python",
   "name": "python3"
  },
  "language_info": {
   "codemirror_mode": {
    "name": "ipython",
    "version": 3
   },
   "file_extension": ".py",
   "mimetype": "text/x-python",
   "name": "python",
   "nbconvert_exporter": "python",
   "pygments_lexer": "ipython3",
   "version": "3.8.3"
  }
 },
 "nbformat": 4,
 "nbformat_minor": 4
}
