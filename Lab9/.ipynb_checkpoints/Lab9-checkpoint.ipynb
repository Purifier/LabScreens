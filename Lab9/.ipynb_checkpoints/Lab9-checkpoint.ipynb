{
 "cells": [
  {
   "cell_type": "code",
   "execution_count": 2,
   "metadata": {},
   "outputs": [],
   "source": [
    "import pandas as pd\n",
    "import requests\n",
    "from bs4 import BeautifulSoup\n",
    "KEYWORDS = ['python', 'парсинг','html','']\n",
    "URL = 'https://habr.com/ru/all/'"
   ]
  },
  {
   "cell_type": "code",
   "execution_count": 3,
   "metadata": {},
   "outputs": [],
   "source": [
    "res=requests.get(URL)"
   ]
  },
  {
   "cell_type": "code",
   "execution_count": 4,
   "metadata": {},
   "outputs": [],
   "source": [
    "soup = BeautifulSoup(res.text, 'html.parser')"
   ]
  },
  {
   "cell_type": "code",
   "execution_count": 5,
   "metadata": {},
   "outputs": [],
   "source": [
    "posts = soup.find_all('article', class_='post')"
   ]
  },
  {
   "cell_type": "code",
   "execution_count": 24,
   "metadata": {},
   "outputs": [],
   "source": []
  },
  {
   "cell_type": "code",
   "execution_count": 6,
   "metadata": {},
   "outputs": [],
   "source": [
    "def texter(URLt):\n",
    "    req=requests.get(URLt)\n",
    "    soup = BeautifulSoup(req.text, 'html.parser')\n",
    "    #print(soup)\n",
    "    posts = soup.find('div',class_=\"post__text\").find_all('p')\n",
    "    if(posts==[]):\n",
    "        posts=soup.find('div',class_=\"post__text\").text\n",
    "        return(posts)\n",
    "    a=\"\"\n",
    "    for post in posts:\n",
    "        a+=post.text\n",
    "    return(a)\n",
    "#print(texter())"
   ]
  },
  {
   "cell_type": "code",
   "execution_count": 7,
   "metadata": {},
   "outputs": [
    {
     "data": {
      "text/html": [
       "<div>\n",
       "<style scoped>\n",
       "    .dataframe tbody tr th:only-of-type {\n",
       "        vertical-align: middle;\n",
       "    }\n",
       "\n",
       "    .dataframe tbody tr th {\n",
       "        vertical-align: top;\n",
       "    }\n",
       "\n",
       "    .dataframe thead th {\n",
       "        text-align: right;\n",
       "    }\n",
       "</style>\n",
       "<table border=\"1\" class=\"dataframe\">\n",
       "  <thead>\n",
       "    <tr style=\"text-align: right;\">\n",
       "      <th></th>\n",
       "      <th>Дата</th>\n",
       "      <th>Заголовок</th>\n",
       "      <th>Ссылка</th>\n",
       "      <th>Текст статьи</th>\n",
       "    </tr>\n",
       "  </thead>\n",
       "  <tbody>\n",
       "    <tr>\n",
       "      <th>0</th>\n",
       "      <td>вчера в 22:02</td>\n",
       "      <td>Как принять сигналы немецкого ВМФ с помощью зв...</td>\n",
       "      <td>https://habr.com/ru/post/526824/</td>\n",
       "      <td>Привет, Хабр.\\n\\r\\nТема приема и анализа сверх...</td>\n",
       "    </tr>\n",
       "    <tr>\n",
       "      <th>1</th>\n",
       "      <td>вчера в 19:09</td>\n",
       "      <td>Рендеринг на клиенте, на сервере и генерация с...</td>\n",
       "      <td>https://habr.com/ru/post/526828/</td>\n",
       "      <td>Приветствую всех профессионалов и любителей са...</td>\n",
       "    </tr>\n",
       "  </tbody>\n",
       "</table>\n",
       "</div>"
      ],
      "text/plain": [
       "            Дата                                          Заголовок  \\\n",
       "0  вчера в 22:02  Как принять сигналы немецкого ВМФ с помощью зв...   \n",
       "1  вчера в 19:09  Рендеринг на клиенте, на сервере и генерация с...   \n",
       "\n",
       "                             Ссылка  \\\n",
       "0  https://habr.com/ru/post/526824/   \n",
       "1  https://habr.com/ru/post/526828/   \n",
       "\n",
       "                                        Текст статьи  \n",
       "0  Привет, Хабр.\\n\\r\\nТема приема и анализа сверх...  \n",
       "1  Приветствую всех профессионалов и любителей са...  "
      ]
     },
     "execution_count": 7,
     "metadata": {},
     "output_type": "execute_result"
    }
   ],
   "source": [
    "data=pd.DataFrame({'Дата':[],'Заголовок':[],'Ссылка':[],'Текст статьи':[]})\n",
    "i=0\n",
    "for post in posts:\n",
    "    post_id = post.parent.attrs.get('id')\n",
    "    if not post_id:\n",
    "        continue\n",
    "    post_id = int(post_id.split('_')[-1])\n",
    "    hubs = post.find_all('a', class_='hub-link')\n",
    "    for hub in hubs:\n",
    "            hub_lower = hub.text.lower()\n",
    "            if any([hub_lower in desired for desired in KEYWORDS]):\n",
    "                title_element = post.find('a', class_='post__title_link')\n",
    "                time=post.find('span',class_='post__time')\n",
    "                data.loc[i]=[time.text,title_element.text, title_element.attrs.get('href'),texter(title_element.attrs.get('href'))]\n",
    "                i+=1\n",
    "data"
   ]
  },
  {
   "cell_type": "code",
   "execution_count": null,
   "metadata": {},
   "outputs": [],
   "source": []
  }
 ],
 "metadata": {
  "kernelspec": {
   "display_name": "Python 3",
   "language": "python",
   "name": "python3"
  },
  "language_info": {
   "codemirror_mode": {
    "name": "ipython",
    "version": 3
   },
   "file_extension": ".py",
   "mimetype": "text/x-python",
   "name": "python",
   "nbconvert_exporter": "python",
   "pygments_lexer": "ipython3",
   "version": "3.8.3"
  }
 },
 "nbformat": 4,
 "nbformat_minor": 4
}
