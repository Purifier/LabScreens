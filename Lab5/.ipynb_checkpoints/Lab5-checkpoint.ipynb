{
 "cells": [
  {
   "cell_type": "code",
   "execution_count": 29,
   "metadata": {},
   "outputs": [
    {
     "name": "stdout",
     "output_type": "stream",
     "text": [
      "СДР (специальные права заимствования)\n"
     ]
    }
   ],
   "source": [
    "from libs.exchange import Rate\n",
    "def maxcur():\n",
    "    r=Rate('full')\n",
    "    max=0\n",
    "    name=''\n",
    "    for i in r.exchange_rates().keys():\n",
    "        if r.make_format(i)[\"Value\"]/r.make_format(i)[\"Nominal\"]>max:\n",
    "            name=r.make_format(i)[\"Name\"]\n",
    "            max=r.make_format(i)[\"Value\"]/r.make_format(i)[\"Nominal\"]\n",
    "    return name\n",
    "print(maxcur())"
   ]
  },
  {
   "cell_type": "code",
   "execution_count": 39,
   "metadata": {},
   "outputs": [
    {
     "data": {
      "text/plain": [
       "-1.5073000000000008"
      ]
     },
     "execution_count": 39,
     "metadata": {},
     "output_type": "execute_result"
    }
   ],
   "source": [
    "class NewRate(Rate):\n",
    "    def __init__(self,diff):\n",
    "        self.diff=diff\n",
    "        super().__init__('value')\n",
    "    def make_format(self, currency):\n",
    "        response = self.exchange_rates()\n",
    "        \n",
    "        if currency in response:\n",
    "            if self.format == 'full':\n",
    "                return response[currency]\n",
    "            \n",
    "            if self.format == 'value':\n",
    "                if self.diff==True:\n",
    "                    return response[currency]['Value']-response[currency]['Previous']\n",
    "                else:\n",
    "                    return response[currency]['Value']\n",
    "        \n",
    "        return 'Error'\n",
    "r=NewRate(True)\n",
    "r.make_format('USD')"
   ]
  },
  {
   "cell_type": "code",
   "execution_count": 64,
   "metadata": {},
   "outputs": [
    {
     "name": "stdout",
     "output_type": "stream",
     "text": [
      "Елена повышен(а)\n",
      "Елена повышен(а)\n",
      "Елена повышен(а)\n",
      "Елена повышен(а)\n",
      "Елена повышен(а)\n",
      "Елена повышен(а)\n",
      "6\n"
     ]
    }
   ],
   "source": [
    "import random\n",
    "class Designer:\n",
    "    def __init__(self,name='NoName',seniority=0,awards=0):\n",
    "        self.name=name\n",
    "        self.seniority=seniority\n",
    "        self.awards=awards\n",
    "        self.balls=awards*2\n",
    "    def check_if_it_is_time_for_upgrade(self):\n",
    "        #Аккредитация\n",
    "        self.balls+=1\n",
    "        #Проверка на повышение\n",
    "        if(self.balls>=7):\n",
    "            self.balls-=7\n",
    "            self.seniority+=1\n",
    "            print(self.name+\" повышен(а)\")\n",
    "        #С шансом 50% после аккредитации работник получит награду\n",
    "        if random.randint(0,9)<5:\n",
    "            self.awards+=1\n",
    "            self.balls+=2\n",
    "elena = Designer('Елена', seniority=0, awards=2)\n",
    "for i in range(20):\n",
    "    elena.check_if_it_is_time_for_upgrade()\n",
    "print(elena.seniority) "
   ]
  },
  {
   "cell_type": "code",
   "execution_count": null,
   "metadata": {},
   "outputs": [],
   "source": []
  },
  {
   "cell_type": "code",
   "execution_count": null,
   "metadata": {},
   "outputs": [],
   "source": []
  }
 ],
 "metadata": {
  "kernelspec": {
   "display_name": "Python 3",
   "language": "python",
   "name": "python3"
  },
  "language_info": {
   "codemirror_mode": {
    "name": "ipython",
    "version": 3
   },
   "file_extension": ".py",
   "mimetype": "text/x-python",
   "name": "python",
   "nbconvert_exporter": "python",
   "pygments_lexer": "ipython3",
   "version": "3.8.3"
  }
 },
 "nbformat": 4,
 "nbformat_minor": 4
}
