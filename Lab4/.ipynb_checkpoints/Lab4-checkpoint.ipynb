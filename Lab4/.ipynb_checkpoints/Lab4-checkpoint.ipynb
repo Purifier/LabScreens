{
 "cells": [
  {
   "cell_type": "markdown",
   "metadata": {},
   "source": [
    "**Задание 1**\n",
    "\n",
    "Печатные газеты использовали свой формат дат для каждого выпуска. Для каждой газеты из списка напишите формат указанной даты \n",
    "\n",
    "для перевода в объект datetime:\n",
    "\n",
    "The Moscow Times - Wednesday, October 2, 2002\n",
    "\n",
    "The Guardian - Friday, 11.10.13\n",
    "\n",
    "Daily News - Thursday, 18 August 1977"
   ]
  },
  {
   "cell_type": "code",
   "execution_count": 50,
   "metadata": {},
   "outputs": [
    {
     "name": "stdout",
     "output_type": "stream",
     "text": [
      "2002-10-02 00:00:00\n",
      "2013-10-11 00:00:00\n",
      "1977-08-18 00:00:00\n"
     ]
    }
   ],
   "source": [
    "from datetime import datetime, timedelta\n",
    "jou1=\"The Moscow Times - Wednesday, October 2, 2002\"\n",
    "jou2=\"The Guardian - Friday, 11.10.13\"\n",
    "jou3=\"Daily News - Thursday, 18 August 1977\"\n",
    "jou1[jou1.find('-')+2:]\n",
    "print(datetime.strptime(jou1[jou1.find('-')+2:],\"%A, %B %d, %Y\"))\n",
    "print(datetime.strptime(jou2[jou2.find('-')+2:],\"%A, %d.%m.%y\"))\n",
    "print(datetime.strptime(jou3[jou3.find('-')+2:],\"%A, %d %B %Y\"))"
   ]
  },
  {
   "cell_type": "markdown",
   "metadata": {},
   "source": [
    "**Задание 2**\n",
    "\n",
    "Дан поток дат в формате YYYY-MM-DD, в которых встречаются некорректные значения:\n",
    "stream = [‘2018-04-02’, ‘2018-02-29’, ‘2018-19-02’]\n",
    "\n",
    "Напишите функцию, которая проверяет эти даты на корректность. Т. е. для каждой даты возвращает True (дата корректна) или False (некорректная дата)."
   ]
  },
  {
   "cell_type": "code",
   "execution_count": 41,
   "metadata": {},
   "outputs": [
    {
     "data": {
      "text/plain": [
       "True"
      ]
     },
     "execution_count": 41,
     "metadata": {},
     "output_type": "execute_result"
    }
   ],
   "source": [
    "def checkdate(a):\n",
    "    month=int(a[a.find('-')+1:a.rfind('-')])\n",
    "    day=int(a[a.rfind('-')+1:])\n",
    "    year=int(a[:a.find('-')])\n",
    "    if 1<month<12 and ((month in[1,3,5,7,8,10,12]and 1<day<31)or(month in [4,6,9,11] and 1<day<30)or(month==2 and (year%4==0 and 1<day<29)or(1<day<28))):\n",
    "        return True\n",
    "    return False\n",
    "checkdate(\"2018-04-02\")"
   ]
  },
  {
   "cell_type": "markdown",
   "metadata": {},
   "source": [
    "**Задание 3**\n",
    "Напишите функцию date_range, которая возвращает список дат за период от start_date до end_date. \n",
    "\n",
    "Даты должны вводиться в формате YYYY-MM-DD. В случае неверного формата или при start_date > end_date должен возвращаться пустой список.\n"
   ]
  },
  {
   "cell_type": "code",
   "execution_count": 61,
   "metadata": {},
   "outputs": [],
   "source": [
    "def date_range(start_date,end_date):\n",
    "    datelist=[]\n",
    "    try:\n",
    "        start_date=datetime.strptime(start_date, \"%Y-%m-%d\")\n",
    "        end_date=datetime.strptime(end_date, \"%Y-%m-%d\")\n",
    "    except:\n",
    "        return(datelist)\n",
    "    else:\n",
    "        if(end_date<start_date):\n",
    "            return(datelist)\n",
    "            return\n",
    "        while(start_date!=end_date):\n",
    "            start_date=start_date+timedelta(days=1)\n",
    "            datelist.append(start_date)\n",
    "        return(datelist)"
   ]
  },
  {
   "cell_type": "code",
   "execution_count": 62,
   "metadata": {},
   "outputs": [
    {
     "data": {
      "text/plain": [
       "[datetime.datetime(2018, 4, 3, 0, 0),\n",
       " datetime.datetime(2018, 4, 4, 0, 0),\n",
       " datetime.datetime(2018, 4, 5, 0, 0)]"
      ]
     },
     "execution_count": 62,
     "metadata": {},
     "output_type": "execute_result"
    }
   ],
   "source": [
    "date_range(\"2018-04-02\",\"2018-04-5\")"
   ]
  },
  {
   "cell_type": "markdown",
   "metadata": {},
   "source": [
    "**Задание 4**\n",
    "Ваш коллега прислал код функции:\n",
    "\n",
    "DEFAULT_USER_COUNT = 3\n",
    "\n",
    "def delete_and_return_last_user(region, default_list=[‘A100’, ‘A101’, ‘A102’]):\n",
    "\"\"“\n",
    "Удаляет из списка default_list последнего пользователя\n",
    "и возвращает ID нового последнего пользователя.\n",
    "”\"\"\n",
    "element_to_delete = default_list[-1]\n",
    "default_list.remove(element_to_delete)\n",
    "\n",
    "return default_list[DEFAULT_USER_COUNT-2]\n",
    "При однократном вызове этой функции все работает корректно:\n",
    "delete_and_return_last_user(1)\n",
    "‘A101’\n",
    "\n",
    "Однако, при повторном вызове получается ошибка IndexError: list index out of range.\n",
    "\n",
    "Задание:\n",
    "\n",
    "Что значит ошибка list index out of range?\n",
    "Почему при первом запуске функция работает корректно, а при втором - нет?"
   ]
  },
  {
   "cell_type": "markdown",
   "metadata": {},
   "source": [
    "**Ответ**\n",
    "\n",
    "list index out of range означает, что номер элемента списка вышел за пределы возможных\n",
    "\n",
    "После первого вызова функции у нас останутся 0-й и 1-й элементы, а во время второго вызова он удалит 1-й элемент и попытается к нему обратиться, а 1-го элемента уже в данном списке не существует\n"
   ]
  },
  {
   "cell_type": "code",
   "execution_count": null,
   "metadata": {},
   "outputs": [],
   "source": []
  }
 ],
 "metadata": {
  "kernelspec": {
   "display_name": "Python 3",
   "language": "python",
   "name": "python3"
  },
  "language_info": {
   "codemirror_mode": {
    "name": "ipython",
    "version": 3
   },
   "file_extension": ".py",
   "mimetype": "text/x-python",
   "name": "python",
   "nbconvert_exporter": "python",
   "pygments_lexer": "ipython3",
   "version": "3.8.3"
  }
 },
 "nbformat": 4,
 "nbformat_minor": 4
}
