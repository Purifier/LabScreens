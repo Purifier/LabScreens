{
 "cells": [
  {
   "cell_type": "code",
   "execution_count": 58,
   "metadata": {},
   "outputs": [],
   "source": [
    "import pandas\n",
    "movies=open('ml-latest-small/movies.csv','r')\n",
    "ratings=open('ml-latest-small/ratings.csv','r')\n",
    "links=open('ml-latest-small/links.csv','r')\n",
    "tags=open('ml-latest-small/tags.csv','r')"
   ]
  },
  {
   "cell_type": "code",
   "execution_count": 98,
   "metadata": {},
   "outputs": [
    {
     "data": {
      "text/plain": [
       "318"
      ]
     },
     "execution_count": 98,
     "metadata": {},
     "output_type": "execute_result"
    }
   ],
   "source": [
    "data =pandas.read_csv('ml-latest-small/ratings.csv')\n",
    "data.filter(items=['movieId', 'rating'])\n",
    "data.query(\"rating=='5.0'\").groupby(by='movieId').count().idxmax()[0]"
   ]
  },
  {
   "cell_type": "markdown",
   "metadata": {},
   "source": [
    "*Задание 2*"
   ]
  },
  {
   "cell_type": "code",
   "execution_count": 114,
   "metadata": {},
   "outputs": [
    {
     "data": {
      "text/plain": [
       "240580.0"
      ]
     },
     "execution_count": 114,
     "metadata": {},
     "output_type": "execute_result"
    }
   ],
   "source": [
    "data =pandas.read_csv('power.csv')\n",
    "data.query(\"country in ['Lithuania','Latvia','Estonia']\").query(\"category in [4,12,21]\").query(\"year in [2005,2006,2007,2008,2009,2010]\").query(\"quantity>=0\").sum()[2]"
   ]
  },
  {
   "cell_type": "markdown",
   "metadata": {},
   "source": [
    "*Задание 3*"
   ]
  },
  {
   "cell_type": "code",
   "execution_count": 121,
   "metadata": {},
   "outputs": [
    {
     "data": {
      "text/plain": [
       "[    Угол (градусы) Косинус (Cos)  Синус (Sin)\n",
       " 0               0°             1            0\n",
       " 1               1°    0999847695   0017452406\n",
       " 2               2°    0999390827   0034899497\n",
       " 3               3°    0998629535   0052335956\n",
       " 4               4°     099756405   0069756474\n",
       " ..             ...           ...          ...\n",
       " 356           356°     099756405  -0069756474\n",
       " 357           357°    0998629535  -0052335956\n",
       " 358           358°    0999390827  -0034899497\n",
       " 359           359°    0999847695  -0017452406\n",
       " 360           360°             1            0\n",
       " \n",
       " [361 rows x 3 columns]]"
      ]
     },
     "execution_count": 121,
     "metadata": {},
     "output_type": "execute_result"
    }
   ],
   "source": [
    "pandas.read_html(\"https://mnogoformul.ru/tablica-sinusov-i-kosinusov/\")"
   ]
  },
  {
   "cell_type": "markdown",
   "metadata": {},
   "source": [
    "*Задание 4*"
   ]
  },
  {
   "cell_type": "code",
   "execution_count": 176,
   "metadata": {},
   "outputs": [
    {
     "data": {
      "text/html": [
       "<div>\n",
       "<style scoped>\n",
       "    .dataframe tbody tr th:only-of-type {\n",
       "        vertical-align: middle;\n",
       "    }\n",
       "\n",
       "    .dataframe tbody tr th {\n",
       "        vertical-align: top;\n",
       "    }\n",
       "\n",
       "    .dataframe thead th {\n",
       "        text-align: right;\n",
       "    }\n",
       "</style>\n",
       "<table border=\"1\" class=\"dataframe\">\n",
       "  <thead>\n",
       "    <tr style=\"text-align: right;\">\n",
       "      <th></th>\n",
       "      <th>rating</th>\n",
       "      <th>class</th>\n",
       "    </tr>\n",
       "    <tr>\n",
       "      <th>movieId</th>\n",
       "      <th></th>\n",
       "      <th></th>\n",
       "    </tr>\n",
       "  </thead>\n",
       "  <tbody>\n",
       "    <tr>\n",
       "      <th>1</th>\n",
       "      <td>3.920930</td>\n",
       "      <td>Средний рейтинг</td>\n",
       "    </tr>\n",
       "    <tr>\n",
       "      <th>2</th>\n",
       "      <td>3.431818</td>\n",
       "      <td>Средний рейтинг</td>\n",
       "    </tr>\n",
       "    <tr>\n",
       "      <th>3</th>\n",
       "      <td>3.259615</td>\n",
       "      <td>Средний рейтинг</td>\n",
       "    </tr>\n",
       "    <tr>\n",
       "      <th>4</th>\n",
       "      <td>2.357143</td>\n",
       "      <td>Средний рейтинг</td>\n",
       "    </tr>\n",
       "    <tr>\n",
       "      <th>5</th>\n",
       "      <td>3.071429</td>\n",
       "      <td>Средний рейтинг</td>\n",
       "    </tr>\n",
       "    <tr>\n",
       "      <th>...</th>\n",
       "      <td>...</td>\n",
       "      <td>...</td>\n",
       "    </tr>\n",
       "    <tr>\n",
       "      <th>193581</th>\n",
       "      <td>4.000000</td>\n",
       "      <td>Средний рейтинг</td>\n",
       "    </tr>\n",
       "    <tr>\n",
       "      <th>193583</th>\n",
       "      <td>3.500000</td>\n",
       "      <td>Средний рейтинг</td>\n",
       "    </tr>\n",
       "    <tr>\n",
       "      <th>193585</th>\n",
       "      <td>3.500000</td>\n",
       "      <td>Средний рейтинг</td>\n",
       "    </tr>\n",
       "    <tr>\n",
       "      <th>193587</th>\n",
       "      <td>3.500000</td>\n",
       "      <td>Средний рейтинг</td>\n",
       "    </tr>\n",
       "    <tr>\n",
       "      <th>193609</th>\n",
       "      <td>4.000000</td>\n",
       "      <td>Средний рейтинг</td>\n",
       "    </tr>\n",
       "  </tbody>\n",
       "</table>\n",
       "<p>9724 rows × 2 columns</p>\n",
       "</div>"
      ],
      "text/plain": [
       "           rating            class\n",
       "movieId                           \n",
       "1        3.920930  Средний рейтинг\n",
       "2        3.431818  Средний рейтинг\n",
       "3        3.259615  Средний рейтинг\n",
       "4        2.357143  Средний рейтинг\n",
       "5        3.071429  Средний рейтинг\n",
       "...           ...              ...\n",
       "193581   4.000000  Средний рейтинг\n",
       "193583   3.500000  Средний рейтинг\n",
       "193585   3.500000  Средний рейтинг\n",
       "193587   3.500000  Средний рейтинг\n",
       "193609   4.000000  Средний рейтинг\n",
       "\n",
       "[9724 rows x 2 columns]"
      ]
     },
     "execution_count": 176,
     "metadata": {},
     "output_type": "execute_result"
    }
   ],
   "source": [
    "def rate(a):\n",
    "    if a>4: return('Высокий рейтинг')\n",
    "    else:\n",
    "        if a>2: return('Средний рейтинг')\n",
    "        else: return('Низкий рейтинг')\n",
    "    \n",
    "data =pandas.read_csv('ml-latest-small/ratings.csv')\n",
    "data.groupby('movieId').mean()['rating']\n",
    "movies=pandas.read_csv('ml-latest-small/movies.csv')\n",
    "result=data.groupby('movieId').mean()\n",
    "result['class']=[rate(a) for a in result['rating']]\n",
    "result.filter(items=['movieId','rating','class'])"
   ]
  },
  {
   "cell_type": "markdown",
   "metadata": {},
   "source": [
    "*Задание 6*"
   ]
  },
  {
   "cell_type": "code",
   "execution_count": 231,
   "metadata": {},
   "outputs": [
    {
     "data": {
      "text/html": [
       "<div>\n",
       "<style scoped>\n",
       "    .dataframe tbody tr th:only-of-type {\n",
       "        vertical-align: middle;\n",
       "    }\n",
       "\n",
       "    .dataframe tbody tr th {\n",
       "        vertical-align: top;\n",
       "    }\n",
       "\n",
       "    .dataframe thead th {\n",
       "        text-align: right;\n",
       "    }\n",
       "</style>\n",
       "<table border=\"1\" class=\"dataframe\">\n",
       "  <thead>\n",
       "    <tr style=\"text-align: right;\">\n",
       "      <th></th>\n",
       "      <th>rating</th>\n",
       "    </tr>\n",
       "    <tr>\n",
       "      <th>year</th>\n",
       "      <th></th>\n",
       "    </tr>\n",
       "  </thead>\n",
       "  <tbody>\n",
       "    <tr>\n",
       "      <th>1971</th>\n",
       "      <td>3.811243</td>\n",
       "    </tr>\n",
       "    <tr>\n",
       "      <th>1957</th>\n",
       "      <td>3.767680</td>\n",
       "    </tr>\n",
       "    <tr>\n",
       "      <th>1951</th>\n",
       "      <td>3.718044</td>\n",
       "    </tr>\n",
       "    <tr>\n",
       "      <th>1952</th>\n",
       "      <td>3.700104</td>\n",
       "    </tr>\n",
       "    <tr>\n",
       "      <th>1969</th>\n",
       "      <td>3.682212</td>\n",
       "    </tr>\n",
       "    <tr>\n",
       "      <th>...</th>\n",
       "      <td>...</td>\n",
       "    </tr>\n",
       "    <tr>\n",
       "      <th>1992</th>\n",
       "      <td>3.092402</td>\n",
       "    </tr>\n",
       "    <tr>\n",
       "      <th>1988</th>\n",
       "      <td>3.060782</td>\n",
       "    </tr>\n",
       "    <tr>\n",
       "      <th>1989</th>\n",
       "      <td>3.045879</td>\n",
       "    </tr>\n",
       "    <tr>\n",
       "      <th>1987</th>\n",
       "      <td>3.041854</td>\n",
       "    </tr>\n",
       "    <tr>\n",
       "      <th>1991</th>\n",
       "      <td>3.030564</td>\n",
       "    </tr>\n",
       "  </tbody>\n",
       "</table>\n",
       "<p>62 rows × 1 columns</p>\n",
       "</div>"
      ],
      "text/plain": [
       "        rating\n",
       "year          \n",
       "1971  3.811243\n",
       "1957  3.767680\n",
       "1951  3.718044\n",
       "1952  3.700104\n",
       "1969  3.682212\n",
       "...        ...\n",
       "1992  3.092402\n",
       "1988  3.060782\n",
       "1989  3.045879\n",
       "1987  3.041854\n",
       "1991  3.030564\n",
       "\n",
       "[62 rows x 1 columns]"
      ]
     },
     "execution_count": 231,
     "metadata": {},
     "output_type": "execute_result"
    }
   ],
   "source": [
    "year=list(range(1950,2011))\n",
    "year=[str(year)for year in year]\n",
    "movies=pandas.read_csv(\"ml-latest-small/movies.csv\")\n",
    "def production_year(a):\n",
    "    ayear=a[a.rfind('(')+1:a.rfind(')')]\n",
    "    if ayear in year:\n",
    "        return(ayear)\n",
    "    else:return('1900')\n",
    "movies['year']=[production_year(a) for a in movies['title']]\n",
    "data =pandas.read_csv('ml-latest-small/ratings.csv')\n",
    "data=data.groupby('movieId').mean()['rating']\n",
    "movies=movies.set_index('movieId').join(data)\n",
    "movies.groupby('year').mean().sort_values('rating',ascending=False)"
   ]
  },
  {
   "cell_type": "code",
   "execution_count": null,
   "metadata": {},
   "outputs": [],
   "source": []
  }
 ],
 "metadata": {
  "kernelspec": {
   "display_name": "Python 3",
   "language": "python",
   "name": "python3"
  },
  "language_info": {
   "codemirror_mode": {
    "name": "ipython",
    "version": 3
   },
   "file_extension": ".py",
   "mimetype": "text/x-python",
   "name": "python",
   "nbconvert_exporter": "python",
   "pygments_lexer": "ipython3",
   "version": "3.8.3"
  }
 },
 "nbformat": 4,
 "nbformat_minor": 4
}
